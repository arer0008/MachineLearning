{
 "cells": [
  {
   "cell_type": "markdown",
   "metadata": {
    "colab_type": "text",
    "id": "-hs-AAxj9Bzz"
   },
   "source": [
    "#### Welcome to assingment 2 of Machine Learning Course 5DV194! \n",
    "Your basic task is to build a classifier uisng neural network on the Movies dataset.\n",
    "\n",
    "#### Goals of assignment 2:\n",
    "Goal-1: Build and explore the natural lanuage processing model (i.e., word embbeding) for word representation. <br> \n",
    "Goal-2: Build a recurrent neural network (RNN) for sentiment classification (i.e., positive or negative) using word embeddings. <br>\n",
    "Goal-3: Build a recurrent neural network (CNN) for sentiment classification (i.e., positive or negative) using word embeddings.\n",
    "\n",
    "#### Deadline of assignment 2:\n",
    "March 4, 2019 (23:59:59 Stockholm time)\n",
    "\n",
    "#### Technologies to apply in assignment 2\n",
    "Natural Language Process model (i.e., Word embedding) \n",
    "Machine Learning algorithm (i.e., Recurrent Neural Network)\n",
    "Machine Learning algorithm (i.e., CNN)\n",
    "\n",
    "#### Dataset\n",
    "Work on IMDB review dataset, a benchmark dataset for binary sentiment classification (positive or negative) on movies.\n",
    "http://ai.stanford.edu/~amaas//data/sentiment/\n",
    "\n",
    "If you want to know more about the dataset (BUT not mandatory), see this paper: http://ai.stanford.edu/~ang/papers/acl11-WordVectorsSentimentAnalysis.pdf\n",
    "\n",
    "\n",
    "#### Instruction\n",
    "Overall there are 8 tasks (steps) in this assingment.  To fulfill each task, you will find several TODO sections, which requires you to add codes.  Anyway, just follow this file (WordEmbedding_Student.ipynb) to run the GIVEN codes, and add your implemention (in TODO section) to accomplish all tasks. It's also important to know that you're **not allowed** to import any other libraries. Only existing 'imported libraries' in each file are allowed.\n",
    "\n",
    "#### Evaluation points distribution (200 points in total):\n",
    "Task 1. Output the number of data samples (5pt) <br>\n",
    "Task 2: Recover the raw form of one sample (10pt) <br>\n",
    "Task 3: Implement \"window based co-occurrence matrix\" word representation approach. (25pt) <br>\n",
    "Task 4: Output the most 5 similar words of 'he', 'she', and 'girl'? (20pt) <br>\n",
    "Task 5: Find similar relationship of given input words. (30pt) <br>\n",
    "Task 6: Build an LSTM model to classify positive/negative imdb reviews using the above embedding model. (60pt) <br>\n",
    "Task 7: Build an CNN model to classify positive/negative imdb reviews using the above embedding model. (20pt) <br>\n",
    "Task 8: Answer for several question regarding your built neural network model (30pt) <br>\n",
    "\n",
    "<br>**Note**: All of your answers, codes, and trained models are validated <span style=\"color:red\"> <em>automatically</em></span>. So please make sure you are following all instructions properly. We will have a closer look into your problem but your grade will not be changed since it depends on your submitted codes/files. <br>\n",
    "<span style=\"color:red\"> <em>INFORMATION:</em></span> You're not allowed to publish this code to any other third-party."
   ]
  },
  {
   "cell_type": "markdown",
   "metadata": {
    "colab_type": "text",
    "id": "RvddLZMO9Bz0"
   },
   "source": [
    "### 0. Preparation\n",
    "The following a few steps is to make sure (1) your python environment is well prepared and (2) output files are well-organised."
   ]
  },
  {
   "cell_type": "markdown",
   "metadata": {
    "colab_type": "text",
    "id": "1mQzPW3U9Bz2"
   },
   "source": [
    "#### Task 0: install packages\n",
    "1) Read instruction in **build_env.note** to install all required packages (tip: if your conda does not work, 'pip install' also applies.)\n",
    "2) Run the following three code blocks to make sure you're ready to go."
   ]
  },
  {
   "cell_type": "code",
   "execution_count": 1,
   "metadata": {
    "colab": {
     "base_uri": "https://localhost:8080/",
     "height": 54
    },
    "colab_type": "code",
    "executionInfo": {
     "elapsed": 1186,
     "status": "ok",
     "timestamp": 1550209214377,
     "user": {
      "displayName": "Sonny Sonny",
      "photoUrl": "",
      "userId": "06463560961806604631"
     },
     "user_tz": -60
    },
    "id": "7zya5vugGOZu",
    "outputId": "4f38144b-8a3e-4281-fa8d-d9336b6539bc"
   },
   "outputs": [],
   "source": [
    "%load_ext autoreload\n",
    "%autoreload 2\n",
    "USE_G_COLAB = False\n",
    "if USE_G_COLAB:\n",
    "  from google.colab import drive\n",
    "  drive.mount('/content/drive')"
   ]
  },
  {
   "cell_type": "code",
   "execution_count": 2,
   "metadata": {
    "colab": {
     "base_uri": "https://localhost:8080/",
     "height": 68
    },
    "colab_type": "code",
    "executionInfo": {
     "elapsed": 2904,
     "status": "ok",
     "timestamp": 1550209226074,
     "user": {
      "displayName": "Sonny Sonny",
      "photoUrl": "",
      "userId": "06463560961806604631"
     },
     "user_tz": -60
    },
    "id": "cy_ikVm2GSl5",
    "outputId": "ae82010a-6608-4f89-d303-78c575633d4c"
   },
   "outputs": [],
   "source": [
    "if USE_G_COLAB:\n",
    "  root_dir = \"/content/drive/My Drive/MLCourse.2019/Assignment2/Student_Ver/\"\n",
    "  root_dir_to_test = \"/content/drive/My\\ Drive/MLCourse.2019/Assignment2/Student_Ver/\"\n",
    "  # Confirm the directory is accessible. If the directory is not correct, change it.\n",
    "  !ls $root_dir_to_test"
   ]
  },
  {
   "cell_type": "code",
   "execution_count": 3,
   "metadata": {
    "colab": {},
    "colab_type": "code",
    "id": "U_YxN5sj9Bz2"
   },
   "outputs": [
    {
     "name": "stderr",
     "output_type": "stream",
     "text": [
      "Using TensorFlow backend.\n"
     ]
    }
   ],
   "source": [
    "import numpy as np\n",
    "from random import randint\n",
    "import keras, tensorflow, numpy, gensim, h5py, nltk, matplotlib, pandas, seaborn, sklearn"
   ]
  },
  {
   "cell_type": "code",
   "execution_count": 4,
   "metadata": {
    "colab": {
     "base_uri": "https://localhost:8080/",
     "height": 170
    },
    "colab_type": "code",
    "executionInfo": {
     "elapsed": 644,
     "status": "ok",
     "timestamp": 1550209241188,
     "user": {
      "displayName": "Sonny Sonny",
      "photoUrl": "",
      "userId": "06463560961806604631"
     },
     "user_tz": -60
    },
    "id": "sKKRwxLq9Bz8",
    "outputId": "ea4b1b85-0e86-4c2a-a0dd-53acc9eae374"
   },
   "outputs": [
    {
     "name": "stdout",
     "output_type": "stream",
     "text": [
      "1.15.4\n",
      "1.12.0\n",
      "2.2.4\n",
      "2.8.0\n",
      "0.20.1\n",
      "2.2.3\n",
      "0.23.4\n",
      "3.4\n",
      "0.9.0\n"
     ]
    }
   ],
   "source": [
    "# This part to show what version you're using for each package. \n",
    "# Even this .ipynb should work with the latest version of all packages up to Feb.2018\n",
    "# but, just in case you have a problem, \n",
    "# try to use the correct version listed in requirements.txt.\n",
    "print np.__version__\n",
    "print tensorflow.__version__\n",
    "print keras.__version__\n",
    "print h5py.__version__\n",
    "print sklearn.__version__\n",
    "print matplotlib.__version__\n",
    "print pandas.__version__\n",
    "print nltk.__version__\n",
    "print seaborn.__version__"
   ]
  },
  {
   "cell_type": "code",
   "execution_count": 5,
   "metadata": {
    "colab": {},
    "colab_type": "code",
    "id": "0WV_dAn19B0A"
   },
   "outputs": [],
   "source": [
    "random_id = randint(3,7000)\n",
    "answers_out = {}"
   ]
  },
  {
   "cell_type": "markdown",
   "metadata": {
    "colab_type": "text",
    "id": "MMilr-D59B0D"
   },
   "source": [
    "### 1. Load and study the IMDB dataset"
   ]
  },
  {
   "cell_type": "code",
   "execution_count": 6,
   "metadata": {
    "colab": {},
    "colab_type": "code",
    "id": "qoVFNdCm9B0F",
    "scrolled": true
   },
   "outputs": [],
   "source": [
    "# Load dataset, 17MB\n",
    "from keras.datasets import imdb\n",
    "(X_train, y_train), (X_test, y_test) = imdb.load_data('./imdb.npz', \n",
    "                                                     num_words=5000, # get 5000 words\n",
    "                                                     skip_top = 0,   # No skipping\n",
    "                                                     maxlen=0,       # No maximum length\n",
    "                                                     start_char=1,   # starting char\n",
    "                                                     oov_char=2,     # out-of-vocabulary\n",
    "                                                     index_from=3)   # real index"
   ]
  },
  {
   "cell_type": "markdown",
   "metadata": {
    "colab_type": "text",
    "id": "NUYtGV_U9B0I"
   },
   "source": [
    "#### Task 1. Output the number of data samples we have (5 pt)\n",
    "Hint/suggestion: Type X_train.shape and run it."
   ]
  },
  {
   "cell_type": "code",
   "execution_count": 7,
   "metadata": {
    "colab": {},
    "colab_type": "code",
    "id": "q6XpIe7o9B0I"
   },
   "outputs": [
    {
     "data": {
      "text/plain": [
       "(25000,)"
      ]
     },
     "execution_count": 7,
     "metadata": {},
     "output_type": "execute_result"
    }
   ],
   "source": [
    "#TODO: Type your code here\n",
    "X_train.shape"
   ]
  },
  {
   "cell_type": "code",
   "execution_count": 8,
   "metadata": {
    "colab": {},
    "colab_type": "code",
    "id": "gAbCMbla9B0L"
   },
   "outputs": [],
   "source": [
    "answers_out['#sample'] = -25000 # TODO: replace -1 by your answer above"
   ]
  },
  {
   "cell_type": "code",
   "execution_count": 9,
   "metadata": {
    "colab": {
     "base_uri": "https://localhost:8080/",
     "height": 54
    },
    "colab_type": "code",
    "executionInfo": {
     "elapsed": 536,
     "status": "ok",
     "timestamp": 1550209299917,
     "user": {
      "displayName": "Sonny Sonny",
      "photoUrl": "",
      "userId": "06463560961806604631"
     },
     "user_tz": -60
    },
    "id": "xv8z1vW09B0P",
    "outputId": "fb884599-b573-4e09-da49-85934b86bd1a",
    "scrolled": false
   },
   "outputs": [
    {
     "name": "stdout",
     "output_type": "stream",
     "text": [
      "[1, 13, 435, 8, 14, 20, 33, 6, 177, 5, 1051, 123, 1203, 61, 464, 937, 9, 6, 1325, 23, 4, 20, 2, 72, 859, 51, 25, 28, 110, 11, 4, 3837, 859, 51, 25, 28, 557, 140, 67, 14, 22, 18, 624, 13, 16, 53, 74, 770, 34, 12, 11, 6, 182, 7, 4, 4503, 2, 3050, 4, 2, 251, 2, 133, 266, 6, 22, 15, 9, 290, 129, 254, 4300, 3596, 4149, 139, 389, 2, 5, 6, 177, 25, 181, 8, 1900, 19, 129, 483, 13, 258, 14, 8, 30, 31, 7, 14, 153, 91, 2, 2, 108, 5, 19, 282, 670, 2, 1015, 35, 735, 2, 48, 25, 100, 202, 35, 735, 8, 316, 574, 17, 6, 2, 14, 62, 30, 4, 22]\n"
     ]
    }
   ],
   "source": [
    "# Get index of all vocabulary\n",
    "vocab_idx = imdb.get_word_index()\n",
    "# Let see how one represented document looks like\n",
    "print X_train[random_id]"
   ]
  },
  {
   "cell_type": "markdown",
   "metadata": {
    "colab_type": "text",
    "id": "D4BWYUGw9B0W"
   },
   "source": [
    "#### Task 2: Recover the raw form of one sample (10 pt)\n",
    "As shown above, the datasets index text documents in numerics. We need to build a reversed index to convert the index-represented document to the raw form. <br>\n",
    "Your task: retrieve original form of training samples (See TODO in the following part)."
   ]
  },
  {
   "cell_type": "code",
   "execution_count": 10,
   "metadata": {
    "colab": {
     "base_uri": "https://localhost:8080/",
     "height": 51
    },
    "colab_type": "code",
    "executionInfo": {
     "elapsed": 1726,
     "status": "ok",
     "timestamp": 1550209309652,
     "user": {
      "displayName": "Sonny Sonny",
      "photoUrl": "",
      "userId": "06463560961806604631"
     },
     "user_tz": -60
    },
    "id": "-mX6Qgyh9B0X",
    "outputId": "3d63a3cc-53bf-4ce8-9794-fdc6ddc15921",
    "scrolled": false
   },
   "outputs": [
    {
     "name": "stdout",
     "output_type": "stream",
     "text": [
      "Type of vocab_idx = <type 'dict'>\n",
      "Size of vocab = 88584\n"
     ]
    }
   ],
   "source": [
    "# Let see type of vocab_idx. The structure should be a dictionary {word:index}\n",
    "print (\"Type of vocab_idx = %s\"%type(vocab_idx))\n",
    "# We need a reversed dictionary {index:word} to restore a sample review.\n",
    "rev_idx = {v+3:k for k,v in vocab_idx.items()}\n",
    "rev_idx[0] = '<padding_word>'\n",
    "rev_idx[1] = '<start_word>'\n",
    "rev_idx[2] = '<oov_word>'\n",
    "rev_idx[3] = '<unk_word>'\n",
    "print (\"Size of vocab = %d\"%len(vocab_idx.items()))"
   ]
  },
  {
   "cell_type": "code",
   "execution_count": 11,
   "metadata": {
    "colab": {},
    "colab_type": "code",
    "id": "juEYc8OI9B0b"
   },
   "outputs": [],
   "source": [
    "def retrieve_sample(doc_id, rev_idx, X_train):\n",
    "    sample_review = ''\n",
    "    # TODO: implement your solution here\n",
    "    sample_review = ' '.join([rev_idx[word] for word in X_train[doc_id]])\n",
    "    \n",
    "    # End of implementation\n",
    "    return sample_review\n",
    "answers_out['sample_doc_{}'.format(random_id)] = retrieve_sample(random_id, rev_idx, X_train)\n",
    "answers_out['sample_doc_2'] = retrieve_sample(2, rev_idx, X_train)"
   ]
  },
  {
   "cell_type": "code",
   "execution_count": 12,
   "metadata": {
    "colab": {
     "base_uri": "https://localhost:8080/",
     "height": 88
    },
    "colab_type": "code",
    "executionInfo": {
     "elapsed": 1256,
     "status": "ok",
     "timestamp": 1550209554161,
     "user": {
      "displayName": "Sonny Sonny",
      "photoUrl": "",
      "userId": "06463560961806604631"
     },
     "user_tz": -60
    },
    "id": "-dTUNnhO9B0f",
    "outputId": "b6119424-de87-4912-8efc-b980a73482ec",
    "scrolled": true
   },
   "outputs": [
    {
     "name": "stdout",
     "output_type": "stream",
     "text": [
      "5453\n",
      "<start_word> i went to this movie at a cast and crew show cause my friend whom is a producer on the movie <oov_word> me forget what you have seen in the commercials forget what you have heard go see this film for yourself i was more than surprised by it in a world of the grinch <oov_word> angels the <oov_word> day <oov_word> here comes a film that is worth your hard earned bucks glorious scenes wonderful <oov_word> and a cast you want to eat with your heart i found this to be one of this years most <oov_word> <oov_word> films and with reason robert <oov_word> deserves an oscar <oov_word> if you could give an oscar to everyone involved as a <oov_word> this would be the film\n",
      "<start_word> this has to be one of the worst films of the <oov_word> when my friends i were watching this film being the target audience it was aimed at we just sat watched the first half an hour with our jaws touching the floor at how bad it really was the rest of the time everyone else in the theatre just started talking to each other leaving or generally crying into their popcorn that they actually paid money they had <oov_word> working to watch this <oov_word> excuse for a film it must have looked like a great idea on paper but on film it looks like no one in the film has a clue what is going on crap acting crap costumes i can't get across how <oov_word> this is to watch save yourself an hour a bit of your life\n"
     ]
    }
   ],
   "source": [
    "print random_id\n",
    "print answers_out['sample_doc_{}'.format(random_id)]\n",
    "print answers_out['sample_doc_2']"
   ]
  },
  {
   "cell_type": "markdown",
   "metadata": {
    "colab_type": "text",
    "id": "1ngegZTL9B0j"
   },
   "source": [
    "### 2. Build an embedding model for word representation \n",
    "Information: the python file **w2vec_utils.py** contains all functions we need for word embeddings.  You will be asked to implement the three required functions in it in the following TODO section."
   ]
  },
  {
   "cell_type": "markdown",
   "metadata": {
    "colab_type": "text",
    "id": "hOLz9cVw9B0l"
   },
   "source": [
    "#### Task 3: implement \"window based co-occurrence matrix\" word representation approach. (25 pt)\n",
    "TODO: go to **cooccurrence_vector_utils.py** and implement `find_cooccurrencies` function. Don't worry if you have no-idea about this method, you will learn it at the lecture on 21, Feb. Please have a look to the **cooccurrence_vector_utils.py** for more information."
   ]
  },
  {
   "cell_type": "code",
   "execution_count": 32,
   "metadata": {
    "colab": {},
    "colab_type": "code",
    "id": "tdKGzBsN9B0l"
   },
   "outputs": [],
   "source": [
    "# import `find_cooccurrencies` function in cooccurrence_vector_utils.py\n",
    "if USE_G_COLAB:\n",
    "  import os\n",
    "  execfile(os.path.join(root_dir, \"cooccurrence_vector_utils.py\"))\n",
    "else:\n",
    "  from cooccurrence_vector_utils import find_cooccurrencies"
   ]
  },
  {
   "cell_type": "code",
   "execution_count": 182,
   "metadata": {
    "colab": {},
    "colab_type": "code",
    "id": "fg22xj8v9B0o",
    "scrolled": false
   },
   "outputs": [
    {
     "name": "stdout",
     "output_type": "stream",
     "text": [
      "146\n"
     ]
    }
   ],
   "source": [
    "docs = [answers_out['sample_doc_{}'.format(random_id)], answers_out['sample_doc_2']]\n",
    "X, vocab_list = find_cooccurrencies(docs, window_size=3)\n",
    "answers_out['cooccurrencies_X'] = X\n",
    "answers_out['cooccurrencies_vocab_list'] = vocab_list\n",
    "print len(X)"
   ]
  },
  {
   "cell_type": "code",
   "execution_count": 196,
   "metadata": {
    "colab": {},
    "colab_type": "code",
    "id": "sYAJDuV99B0s",
    "outputId": "eea11fad-daa4-4f78-b5a3-8204aba6edc4",
    "scrolled": false
   },
   "outputs": [
    {
     "name": "stdout",
     "output_type": "stream",
     "text": [
      "Populating the interactive namespace from numpy and matplotlib\n"
     ]
    },
    {
     "data": {
      "image/png": "[encoded data removed]",
      "text/plain": [
       "<Figure size 432x288 with 1 Axes>"
      ]
     },
     "metadata": {
      "needs_background": "light"
     },
     "output_type": "display_data"
    }
   ],
   "source": [
    "# Visualize SVD\n",
    "%pylab inline\n",
    "la = np.linalg\n",
    "U, S, Vh = la.svd(X, full_matrices=False)\n",
    "plt.axis([-0.6,0.5,-0.8,0.5])\n",
    "for i in xrange(len(vocab_list)):\n",
    "    plt.text(U[i,0], U[i,1], vocab_list[i])"
   ]
  },
  {
   "cell_type": "markdown",
   "metadata": {
    "colab_type": "text",
    "id": "y3P40-Dg9B0y"
   },
   "source": [
    "#### TODO: Implement your functions in w2vec_utils and import it here."
   ]
  },
  {
   "cell_type": "code",
   "execution_count": 203,
   "metadata": {
    "colab": {},
    "colab_type": "code",
    "id": "ALFKbghy9B00",
    "outputId": "b7a751f5-67f5-4d12-9a24-56fab9828c6a",
    "scrolled": true
   },
   "outputs": [
    {
     "ename": "TypeError",
     "evalue": "'module' object is not callable",
     "output_type": "error",
     "traceback": [
      "\u001b[0;31m---------------------------------------------------------------------------\u001b[0m",
      "\u001b[0;31mTypeError\u001b[0m                                 Traceback (most recent call last)",
      "\u001b[0;32m<ipython-input-203-12fb3d650afe>\u001b[0m in \u001b[0;36m<module>\u001b[0;34m()\u001b[0m\n\u001b[1;32m      5\u001b[0m   \u001b[0;32mfrom\u001b[0m \u001b[0mw2vec_utils\u001b[0m \u001b[0;32mimport\u001b[0m \u001b[0mtrain_word2vec\u001b[0m\u001b[0;34m\u001b[0m\u001b[0m\n\u001b[1;32m      6\u001b[0m \u001b[0;34m\u001b[0m\u001b[0m\n\u001b[0;32m----> 7\u001b[0;31m \u001b[0membedding_model\u001b[0m\u001b[0;34m,\u001b[0m \u001b[0membedding_weights\u001b[0m \u001b[0;34m=\u001b[0m \u001b[0mtrain_word2vec\u001b[0m\u001b[0;34m(\u001b[0m\u001b[0mX_train\u001b[0m\u001b[0;34m,\u001b[0m \u001b[0mrev_idx\u001b[0m\u001b[0;34m)\u001b[0m\u001b[0;34m\u001b[0m\u001b[0m\n\u001b[0m",
      "\u001b[0;32m/home/c15aen/Machine Learning/MachineLearning/w2vec_utils.py\u001b[0m in \u001b[0;36mtrain_word2vec\u001b[0;34m(sentence_matrix, vocabulary_inv, num_features, min_word_count, context)\u001b[0m\n\u001b[1;32m     54\u001b[0m     \u001b[0membedding_model\u001b[0m \u001b[0;34m=\u001b[0m \u001b[0mNone\u001b[0m\u001b[0;34m\u001b[0m\u001b[0m\n\u001b[1;32m     55\u001b[0m     \u001b[0;31m# TODO: your implementation here\u001b[0m\u001b[0;34m\u001b[0m\u001b[0;34m\u001b[0m\u001b[0m\n\u001b[0;32m---> 56\u001b[0;31m     \u001b[0mmodel\u001b[0m \u001b[0;34m=\u001b[0m \u001b[0mword2vec\u001b[0m\u001b[0;34m(\u001b[0m\u001b[0;34m\"sentences\"\u001b[0m\u001b[0;34m)\u001b[0m\u001b[0;34m\u001b[0m\u001b[0m\n\u001b[0m\u001b[1;32m     57\u001b[0m \u001b[0;34m\u001b[0m\u001b[0m\n\u001b[1;32m     58\u001b[0m     \u001b[0;31m# end of your implementation\u001b[0m\u001b[0;34m\u001b[0m\u001b[0;34m\u001b[0m\u001b[0m\n",
      "\u001b[0;31mTypeError\u001b[0m: 'module' object is not callable"
     ]
    }
   ],
   "source": [
    "if USE_G_COLAB:\n",
    "  import os\n",
    "  execfile(os.path.join(root_dir, \"w2vec_utils.py\"))\n",
    "else:\n",
    "  from w2vec_utils import train_word2vec\n",
    "\n",
    "embedding_model, embedding_weights = train_word2vec(X_train, rev_idx)"
   ]
  },
  {
   "cell_type": "markdown",
   "metadata": {
    "colab_type": "text",
    "id": "MZfLH7jv9B05"
   },
   "source": [
    "#### Explore the trained embedding model."
   ]
  },
  {
   "cell_type": "code",
   "execution_count": 185,
   "metadata": {
    "colab": {},
    "colab_type": "code",
    "id": "f8fqW40c9B06"
   },
   "outputs": [],
   "source": [
    "import sklearn.manifold\n",
    "tsne = sklearn.manifold.TSNE(n_components=2, random_state=0)"
   ]
  },
  {
   "cell_type": "code",
   "execution_count": 187,
   "metadata": {
    "colab": {},
    "colab_type": "code",
    "id": "Kzf7ANsu9B09"
   },
   "outputs": [
    {
     "ename": "AttributeError",
     "evalue": "'NoneType' object has no attribute 'wv'",
     "output_type": "error",
     "traceback": [
      "\u001b[0;31m---------------------------------------------------------------------------\u001b[0m",
      "\u001b[0;31mAttributeError\u001b[0m                            Traceback (most recent call last)",
      "\u001b[0;32m<ipython-input-187-dd8a018e4ce2>\u001b[0m in \u001b[0;36m<module>\u001b[0;34m()\u001b[0m\n\u001b[0;32m----> 1\u001b[0;31m \u001b[0mall_word_vectors_matrix\u001b[0m \u001b[0;34m=\u001b[0m \u001b[0membedding_model\u001b[0m\u001b[0;34m.\u001b[0m\u001b[0mwv\u001b[0m\u001b[0;34m.\u001b[0m\u001b[0msyn0\u001b[0m\u001b[0;34m\u001b[0m\u001b[0m\n\u001b[0m",
      "\u001b[0;31mAttributeError\u001b[0m: 'NoneType' object has no attribute 'wv'"
     ]
    }
   ],
   "source": [
    "all_word_vectors_matrix = embedding_model.wv.syn0"
   ]
  },
  {
   "cell_type": "code",
   "execution_count": 0,
   "metadata": {
    "colab": {},
    "colab_type": "code",
    "collapsed": true,
    "id": "HgqxC4e59B1B"
   },
   "outputs": [],
   "source": [
    "# Training T-SNE might take a while.\n",
    "all_word_vectors_matrix_2d = tsne.fit_transform(all_word_vectors_matrix)"
   ]
  },
  {
   "cell_type": "code",
   "execution_count": 0,
   "metadata": {
    "colab": {},
    "colab_type": "code",
    "collapsed": true,
    "id": "XQxq2-tJ9B1D"
   },
   "outputs": [],
   "source": [
    "import pandas as pd\n",
    "points = pd.DataFrame(\n",
    "    [\n",
    "        (word, coords[0], coords[1])\n",
    "        for word, coords in [\n",
    "            (word, all_word_vectors_matrix_2d[embedding_model.wv.vocab[word].index])\n",
    "            for word in embedding_model.wv.vocab\n",
    "        ]\n",
    "    ],\n",
    "    columns=[\"word\", \"x\", \"y\"]\n",
    ")"
   ]
  },
  {
   "cell_type": "code",
   "execution_count": 0,
   "metadata": {
    "colab": {},
    "colab_type": "code",
    "id": "-EK_-_RA9B1I",
    "outputId": "c98098c3-b88f-4e4f-8232-af1351a3f545"
   },
   "outputs": [
    {
     "data": {
      "text/html": [
       "<div>\n",
       "<style scoped>\n",
       "    .dataframe tbody tr th:only-of-type {\n",
       "        vertical-align: middle;\n",
       "    }\n",
       "\n",
       "    .dataframe tbody tr th {\n",
       "        vertical-align: top;\n",
       "    }\n",
       "\n",
       "    .dataframe thead th {\n",
       "        text-align: right;\n",
       "    }\n",
       "</style>\n",
       "<table border=\"1\" class=\"dataframe\">\n",
       "  <thead>\n",
       "    <tr style=\"text-align: right;\">\n",
       "      <th></th>\n",
       "      <th>word</th>\n",
       "      <th>x</th>\n",
       "      <th>y</th>\n",
       "    </tr>\n",
       "  </thead>\n",
       "  <tbody>\n",
       "    <tr>\n",
       "      <th>0</th>\n",
       "      <td>limited</td>\n",
       "      <td>-27.184521</td>\n",
       "      <td>29.040321</td>\n",
       "    </tr>\n",
       "    <tr>\n",
       "      <th>1</th>\n",
       "      <td>shelf</td>\n",
       "      <td>18.252916</td>\n",
       "      <td>29.781242</td>\n",
       "    </tr>\n",
       "    <tr>\n",
       "      <th>2</th>\n",
       "      <td>secondly</td>\n",
       "      <td>-23.018044</td>\n",
       "      <td>39.996944</td>\n",
       "    </tr>\n",
       "    <tr>\n",
       "      <th>3</th>\n",
       "      <td>saves</td>\n",
       "      <td>33.165688</td>\n",
       "      <td>-0.485884</td>\n",
       "    </tr>\n",
       "    <tr>\n",
       "      <th>4</th>\n",
       "      <td>dynamic</td>\n",
       "      <td>-34.943985</td>\n",
       "      <td>20.984182</td>\n",
       "    </tr>\n",
       "    <tr>\n",
       "      <th>5</th>\n",
       "      <td>foul</td>\n",
       "      <td>-2.125350</td>\n",
       "      <td>-36.842098</td>\n",
       "    </tr>\n",
       "    <tr>\n",
       "      <th>6</th>\n",
       "      <td>four</td>\n",
       "      <td>7.264162</td>\n",
       "      <td>57.326618</td>\n",
       "    </tr>\n",
       "    <tr>\n",
       "      <th>7</th>\n",
       "      <td>woods</td>\n",
       "      <td>30.167276</td>\n",
       "      <td>-24.146029</td>\n",
       "    </tr>\n",
       "    <tr>\n",
       "      <th>8</th>\n",
       "      <td>sleep</td>\n",
       "      <td>53.280453</td>\n",
       "      <td>9.955101</td>\n",
       "    </tr>\n",
       "    <tr>\n",
       "      <th>9</th>\n",
       "      <td>asian</td>\n",
       "      <td>-21.007284</td>\n",
       "      <td>-18.299662</td>\n",
       "    </tr>\n",
       "  </tbody>\n",
       "</table>\n",
       "</div>"
      ],
      "text/plain": [
       "       word          x          y\n",
       "0   limited -27.184521  29.040321\n",
       "1     shelf  18.252916  29.781242\n",
       "2  secondly -23.018044  39.996944\n",
       "3     saves  33.165688  -0.485884\n",
       "4   dynamic -34.943985  20.984182\n",
       "5      foul  -2.125350 -36.842098\n",
       "6      four   7.264162  57.326618\n",
       "7     woods  30.167276 -24.146029\n",
       "8     sleep  53.280453   9.955101\n",
       "9     asian -21.007284 -18.299662"
      ]
     },
     "execution_count": 18,
     "metadata": {
      "tags": []
     },
     "output_type": "execute_result"
    }
   ],
   "source": [
    "# Let's see top words in your trained model.\n",
    "answers_out['w2vec_head'] = points.head(10)\n",
    "answers_out['w2vec_head']"
   ]
  },
  {
   "cell_type": "code",
   "execution_count": 0,
   "metadata": {
    "colab": {},
    "colab_type": "code",
    "collapsed": true,
    "id": "CE138X279B1K"
   },
   "outputs": [],
   "source": [
    "import seaborn as sns\n",
    "sns.set_context(\"poster\")"
   ]
  },
  {
   "cell_type": "code",
   "execution_count": 0,
   "metadata": {
    "colab": {},
    "colab_type": "code",
    "id": "jlsuRrEl9B1M",
    "outputId": "81ab5d65-6f27-4956-adc3-c4dd7564d378"
   },
   "outputs": [
    {
     "data": {
      "text/plain": [
       "<matplotlib.axes._subplots.AxesSubplot at 0x7f07c27c6310>"
      ]
     },
     "execution_count": 20,
     "metadata": {
      "tags": []
     },
     "output_type": "execute_result"
    },
    {
     "data": {
      "image/png": "[encoded data removed]",
      "text/plain": [
       "<matplotlib.figure.Figure at 0x7f07c2b6f150>"
      ]
     },
     "metadata": {
      "tags": []
     },
     "output_type": "display_data"
    }
   ],
   "source": [
    "points.plot.scatter(\"x\", \"y\", s=10, figsize=(20, 12))"
   ]
  },
  {
   "cell_type": "code",
   "execution_count": 0,
   "metadata": {
    "colab": {},
    "colab_type": "code",
    "collapsed": true,
    "id": "uKncjw3I9B1O"
   },
   "outputs": [],
   "source": [
    "def plot_region(x_bounds, y_bounds):\n",
    "    slice = points[\n",
    "        (x_bounds[0] <= points.x) &\n",
    "        (points.x <= x_bounds[1]) & \n",
    "        (y_bounds[0] <= points.y) &\n",
    "        (points.y <= y_bounds[1])\n",
    "    ]\n",
    "    \n",
    "    ax = slice.plot.scatter(\"x\", \"y\", s=30, figsize=(10, 8))\n",
    "    for i, point in slice.iterrows():\n",
    "        ax.text(point.x + 0.005, point.y + 0.005, point.word, fontsize=11)"
   ]
  },
  {
   "cell_type": "code",
   "execution_count": 0,
   "metadata": {
    "colab": {},
    "colab_type": "code",
    "id": "p9u89pdt9B1R",
    "outputId": "84cc9fd9-45bd-4484-be08-6448a67e73f3"
   },
   "outputs": [
    {
     "data": {
      "image/png": "[encoded data removed]",
      "text/plain": [
       "<matplotlib.figure.Figure at 0x7f07c36d6bd0>"
      ]
     },
     "metadata": {
      "tags": []
     },
     "output_type": "display_data"
    }
   ],
   "source": [
    "# must will might are stayed close together\n",
    "plot_region(x_bounds=(-30, -20), y_bounds=(-40, -20))"
   ]
  },
  {
   "cell_type": "code",
   "execution_count": 0,
   "metadata": {
    "colab": {},
    "colab_type": "code",
    "id": "zm4Vod0C9B1U",
    "outputId": "29f1e32e-ff93-4b3c-f1ea-2d2216b07678"
   },
   "outputs": [
    {
     "data": {
      "image/png": "[encoded data removed]",
      "text/plain": [
       "<matplotlib.figure.Figure at 0x7f07bae74850>"
      ]
     },
     "metadata": {
      "tags": []
     },
     "output_type": "display_data"
    }
   ],
   "source": [
    "# wonderful excellent stayed close toghether\n",
    "plot_region(x_bounds=(20, 30), y_bounds=(25, 30))"
   ]
  },
  {
   "cell_type": "markdown",
   "metadata": {
    "colab_type": "text",
    "id": "m2aycbFJ9B1Y"
   },
   "source": [
    "### Explore semantic similarities between words"
   ]
  },
  {
   "cell_type": "markdown",
   "metadata": {
    "colab_type": "text",
    "id": "qJJPIIP09B1Z"
   },
   "source": [
    "#### Task 4: output the most 5 similar words of 'he', 'she', and 'girl'. (20 pt)\n",
    "Hint: use most_similar function of gensim"
   ]
  },
  {
   "cell_type": "code",
   "execution_count": 0,
   "metadata": {
    "colab": {},
    "colab_type": "code",
    "collapsed": true,
    "id": "vTQXzpyF9B1a",
    "scrolled": true
   },
   "outputs": [],
   "source": [
    "# TODO: implement the 'find_most_similar' function in file w2vec_utils.py.\n",
    "if USE_G_COLAB:\n",
    "  import os\n",
    "  execfile(os.path.join(root_dir, \"w2vec_utils.py\"))\n",
    "else:\n",
    "  from w2vec_utils import find_most_similar\n",
    "# Don't modify this part\n",
    "answers_out['he'] = find_most_similar('he', embedding_model)\n",
    "answers_out['she'] = find_most_similar('she', embedding_model)\n",
    "answers_out['girl'] = find_most_similar('girl', embedding_model)\n",
    "# End"
   ]
  },
  {
   "cell_type": "markdown",
   "metadata": {
    "colab_type": "text",
    "id": "hgMTUg549B1c"
   },
   "source": [
    "#### Task 5: Find similar relationship of the given words. (30 pt)"
   ]
  },
  {
   "cell_type": "markdown",
   "metadata": {
    "colab_type": "text",
    "collapsed": true,
    "id": "sLlZA_Ab9B1d"
   },
   "source": [
    "Find similar relationship: E.g., <br>\n",
    "'king' is related to 'queen', as 'husband' is related to 'wife'."
   ]
  },
  {
   "cell_type": "code",
   "execution_count": 0,
   "metadata": {
    "colab": {},
    "colab_type": "code",
    "collapsed": true,
    "id": "AKAN_GmL9B1d"
   },
   "outputs": [],
   "source": [
    "# TODO: implement the function of 'semantic_math_finder' in file w2vec_utils.py and run the following line of codes.\n",
    "# hint/suggestion: use most_similar_cosmul function of gensim\n",
    "if not USE_G_COLAB:\n",
    "    from w2vec_utils import semantic_math_finder"
   ]
  },
  {
   "cell_type": "code",
   "execution_count": 0,
   "metadata": {
    "colab": {},
    "colab_type": "code",
    "collapsed": true,
    "id": "ICcpwjxq9B1g",
    "scrolled": false
   },
   "outputs": [],
   "source": [
    "# Don't modify this\n",
    "answers_out['girl_cute_man'] = semantic_math_finder(\"girl\", \"cute\", \"man\", embedding_model)\n",
    "answers_out['you_laugh_i'] = semantic_math_finder(\"you\", \"laugh\", \"i\", embedding_model)\n",
    "answers_out['king_man_husband'] = semantic_math_finder(\"king\", \"man\", \"husband\", embedding_model)\n",
    "# End"
   ]
  },
  {
   "cell_type": "markdown",
   "metadata": {
    "colab_type": "text",
    "collapsed": true,
    "id": "LHg9S1ux9B1i"
   },
   "source": [
    "### 3. Build a neural network model for sentiment analysis task using word embeddings"
   ]
  },
  {
   "cell_type": "code",
   "execution_count": 0,
   "metadata": {
    "colab": {},
    "colab_type": "code",
    "id": "ujaCLhif9B1i",
    "outputId": "4d1e5f4f-9242-43eb-9f7f-b2fe62980847",
    "scrolled": true
   },
   "outputs": [
    {
     "name": "stdout",
     "output_type": "stream",
     "text": [
      "218\n",
      "189\n",
      "141\n"
     ]
    }
   ],
   "source": [
    "# Let's see lengths of our current training data\n",
    "print len(X_train[0])\n",
    "print len(X_train[1])\n",
    "print len(X_train[2])"
   ]
  },
  {
   "cell_type": "markdown",
   "metadata": {
    "colab_type": "text",
    "id": "vpJci4jo9B1o"
   },
   "source": [
    "#### All data points are having different size, thus, we have to standardize them all."
   ]
  },
  {
   "cell_type": "code",
   "execution_count": 0,
   "metadata": {
    "colab": {},
    "colab_type": "code",
    "collapsed": true,
    "id": "cZ2h_-gM9B1q"
   },
   "outputs": [],
   "source": [
    "# truncate longer sequences and padding shorter sequences\n",
    "from keras.preprocessing.sequence import pad_sequences "
   ]
  },
  {
   "cell_type": "code",
   "execution_count": 0,
   "metadata": {
    "colab": {},
    "colab_type": "code",
    "collapsed": true,
    "id": "vQzkUVQO9B1r"
   },
   "outputs": [],
   "source": [
    "# Tips: move the mouse inside each function then press shift-tab to see more information\n",
    "maxlen = 100\n",
    "X_train_pad = pad_sequences(X_train, maxlen=maxlen)\n",
    "X_test_pad = pad_sequences(X_test, maxlen=maxlen)"
   ]
  },
  {
   "cell_type": "code",
   "execution_count": 0,
   "metadata": {
    "colab": {},
    "colab_type": "code",
    "id": "MMKjuBQ39B1v",
    "outputId": "6de6c5c7-3465-4fa9-b428-f42478b57118"
   },
   "outputs": [
    {
     "data": {
      "text/plain": [
       "(25000, 100)"
      ]
     },
     "execution_count": 30,
     "metadata": {
      "tags": []
     },
     "output_type": "execute_result"
    }
   ],
   "source": [
    "# Now, let's see shape of our padded data\n",
    "X_train_pad.shape"
   ]
  },
  {
   "cell_type": "code",
   "execution_count": 0,
   "metadata": {
    "colab": {},
    "colab_type": "code",
    "id": "sxQR6us99B1z",
    "outputId": "2adcbbd7-7176-4a7c-efa5-e681d7767d2f"
   },
   "outputs": [
    {
     "data": {
      "text/plain": [
       "[1,\n",
       " 14,\n",
       " 22,\n",
       " 16,\n",
       " 43,\n",
       " 530,\n",
       " 973,\n",
       " 1622,\n",
       " 1385,\n",
       " 65,\n",
       " 458,\n",
       " 4468,\n",
       " 66,\n",
       " 3941,\n",
       " 4,\n",
       " 173,\n",
       " 36,\n",
       " 256,\n",
       " 5,\n",
       " 25,\n",
       " 100,\n",
       " 43,\n",
       " 838,\n",
       " 112,\n",
       " 50,\n",
       " 670,\n",
       " 2,\n",
       " 9,\n",
       " 35,\n",
       " 480,\n",
       " 284,\n",
       " 5,\n",
       " 150,\n",
       " 4,\n",
       " 172,\n",
       " 112,\n",
       " 167,\n",
       " 2,\n",
       " 336,\n",
       " 385,\n",
       " 39,\n",
       " 4,\n",
       " 172,\n",
       " 4536,\n",
       " 1111,\n",
       " 17,\n",
       " 546,\n",
       " 38,\n",
       " 13,\n",
       " 447,\n",
       " 4,\n",
       " 192,\n",
       " 50,\n",
       " 16,\n",
       " 6,\n",
       " 147,\n",
       " 2025,\n",
       " 19,\n",
       " 14,\n",
       " 22,\n",
       " 4,\n",
       " 1920,\n",
       " 4613,\n",
       " 469,\n",
       " 4,\n",
       " 22,\n",
       " 71,\n",
       " 87,\n",
       " 12,\n",
       " 16,\n",
       " 43,\n",
       " 530,\n",
       " 38,\n",
       " 76,\n",
       " 15,\n",
       " 13,\n",
       " 1247,\n",
       " 4,\n",
       " 22,\n",
       " 17,\n",
       " 515,\n",
       " 17,\n",
       " 12,\n",
       " 16,\n",
       " 626,\n",
       " 18,\n",
       " 2,\n",
       " 5,\n",
       " 62,\n",
       " 386,\n",
       " 12,\n",
       " 8,\n",
       " 316,\n",
       " 8,\n",
       " 106,\n",
       " 5,\n",
       " 4,\n",
       " 2223,\n",
       " 2,\n",
       " 16,\n",
       " 480,\n",
       " 66,\n",
       " 3785,\n",
       " 33,\n",
       " 4,\n",
       " 130,\n",
       " 12,\n",
       " 16,\n",
       " 38,\n",
       " 619,\n",
       " 5,\n",
       " 25,\n",
       " 124,\n",
       " 51,\n",
       " 36,\n",
       " 135,\n",
       " 48,\n",
       " 25,\n",
       " 1415,\n",
       " 33,\n",
       " 6,\n",
       " 22,\n",
       " 12,\n",
       " 215,\n",
       " 28,\n",
       " 77,\n",
       " 52,\n",
       " 5,\n",
       " 14,\n",
       " 407,\n",
       " 16,\n",
       " 82,\n",
       " 2,\n",
       " 8,\n",
       " 4,\n",
       " 107,\n",
       " 117,\n",
       " 2,\n",
       " 15,\n",
       " 256,\n",
       " 4,\n",
       " 2,\n",
       " 7,\n",
       " 3766,\n",
       " 5,\n",
       " 723,\n",
       " 36,\n",
       " 71,\n",
       " 43,\n",
       " 530,\n",
       " 476,\n",
       " 26,\n",
       " 400,\n",
       " 317,\n",
       " 46,\n",
       " 7,\n",
       " 4,\n",
       " 2,\n",
       " 1029,\n",
       " 13,\n",
       " 104,\n",
       " 88,\n",
       " 4,\n",
       " 381,\n",
       " 15,\n",
       " 297,\n",
       " 98,\n",
       " 32,\n",
       " 2071,\n",
       " 56,\n",
       " 26,\n",
       " 141,\n",
       " 6,\n",
       " 194,\n",
       " 2,\n",
       " 18,\n",
       " 4,\n",
       " 226,\n",
       " 22,\n",
       " 21,\n",
       " 134,\n",
       " 476,\n",
       " 26,\n",
       " 480,\n",
       " 5,\n",
       " 144,\n",
       " 30,\n",
       " 2,\n",
       " 18,\n",
       " 51,\n",
       " 36,\n",
       " 28,\n",
       " 224,\n",
       " 92,\n",
       " 25,\n",
       " 104,\n",
       " 4,\n",
       " 226,\n",
       " 65,\n",
       " 16,\n",
       " 38,\n",
       " 1334,\n",
       " 88,\n",
       " 12,\n",
       " 16,\n",
       " 283,\n",
       " 5,\n",
       " 16,\n",
       " 4472,\n",
       " 113,\n",
       " 103,\n",
       " 32,\n",
       " 15,\n",
       " 16,\n",
       " 2,\n",
       " 19,\n",
       " 178,\n",
       " 32]"
      ]
     },
     "execution_count": 31,
     "metadata": {
      "tags": []
     },
     "output_type": "execute_result"
    }
   ],
   "source": [
    "X_train[0]"
   ]
  },
  {
   "cell_type": "code",
   "execution_count": 0,
   "metadata": {
    "colab": {},
    "colab_type": "code",
    "id": "IPuOmdFA9B12",
    "outputId": "1ba1203b-19c9-4e1f-aaf1-36dbcb3ba81a",
    "scrolled": true
   },
   "outputs": [
    {
     "data": {
      "text/plain": [
       "array([1415,   33,    6,   22,   12,  215,   28,   77,   52,    5,   14,\n",
       "        407,   16,   82,    2,    8,    4,  107,  117,    2,   15,  256,\n",
       "          4,    2,    7, 3766,    5,  723,   36,   71,   43,  530,  476,\n",
       "         26,  400,  317,   46,    7,    4,    2, 1029,   13,  104,   88,\n",
       "          4,  381,   15,  297,   98,   32, 2071,   56,   26,  141,    6,\n",
       "        194,    2,   18,    4,  226,   22,   21,  134,  476,   26,  480,\n",
       "          5,  144,   30,    2,   18,   51,   36,   28,  224,   92,   25,\n",
       "        104,    4,  226,   65,   16,   38, 1334,   88,   12,   16,  283,\n",
       "          5,   16, 4472,  113,  103,   32,   15,   16,    2,   19,  178,\n",
       "         32], dtype=int32)"
      ]
     },
     "execution_count": 32,
     "metadata": {
      "tags": []
     },
     "output_type": "execute_result"
    }
   ],
   "source": [
    "X_train_pad[0]"
   ]
  },
  {
   "cell_type": "code",
   "execution_count": 0,
   "metadata": {
    "colab": {},
    "colab_type": "code",
    "id": "uX7SbW1i9B14",
    "outputId": "0e5631c8-9e27-41b4-8105-b1990c4f386a"
   },
   "outputs": [
    {
     "data": {
      "text/plain": [
       "5000"
      ]
     },
     "execution_count": 33,
     "metadata": {
      "tags": []
     },
     "output_type": "execute_result"
    }
   ],
   "source": [
    "max_features = max([max(x) for x in X_train_pad] \n",
    "                   + [max(x) for x in X_test_pad]) + 1\n",
    "max_features # should be 5000, i.e., the number of words we request from begining."
   ]
  },
  {
   "cell_type": "code",
   "execution_count": 0,
   "metadata": {
    "colab": {},
    "colab_type": "code",
    "id": "t6_85XGg9B18",
    "outputId": "d8844f5a-1b02-427a-8cab-12386a368238"
   },
   "outputs": [
    {
     "data": {
      "text/plain": [
       "array([1, 0, 0, 1, 0, 0, 1, 0, 1, 0])"
      ]
     },
     "execution_count": 34,
     "metadata": {
      "tags": []
     },
     "output_type": "execute_result"
    }
   ],
   "source": [
    "# Let's see the data labels\n",
    "y_train[0:10]"
   ]
  },
  {
   "cell_type": "markdown",
   "metadata": {
    "colab_type": "text",
    "id": "FgrZd3WP9B1-"
   },
   "source": [
    "#### Task 6: build an LSTM model to classify positive/negative imdb reviews using the above embedding model. (60 pt)"
   ]
  },
  {
   "cell_type": "code",
   "execution_count": 0,
   "metadata": {
    "colab": {},
    "colab_type": "code",
    "collapsed": true,
    "id": "nhtt2dga9B1_"
   },
   "outputs": [],
   "source": [
    "# TODO: implement lstm_model in the **classifier_models.py** and run this.\n",
    "if USE_G_COLAB:\n",
    "  import os\n",
    "  execfile(os.path.join(root_dir, \"classifier_models.py\"))\n",
    "else:\n",
    "  from classifier_models import lstm_model"
   ]
  },
  {
   "cell_type": "code",
   "execution_count": 0,
   "metadata": {
    "colab": {},
    "colab_type": "code",
    "collapsed": true,
    "id": "AKdUkDJQ9B2B",
    "scrolled": true
   },
   "outputs": [],
   "source": [
    "loss, acc, lstm_model_out = lstm_model(max_features, X_train_pad, y_train, X_test_pad, y_test)\n",
    "print ('Test LSTM loss:', loss)\n",
    "print ('Test LSTM accuracy: ', acc)\n",
    "answers_out['classifier_lstm_test_loss'] = loss\n",
    "answers_out['classifier_lstm_test_accuracy'] = acc"
   ]
  },
  {
   "cell_type": "code",
   "execution_count": 0,
   "metadata": {
    "colab": {},
    "colab_type": "code",
    "id": "2qGUfxRz9B2D",
    "outputId": "af87b6df-22df-4bd2-bcbf-e4a055ebaa8b"
   },
   "outputs": [
    {
     "name": "stdout",
     "output_type": "stream",
     "text": [
      "_________________________________________________________________\n",
      "Layer (type)                 Output Shape              Param #   \n",
      "=================================================================\n",
      "embedding_3 (Embedding)      (None, None, 128)         640000    \n",
      "_________________________________________________________________\n",
      "lstm_3 (LSTM)                (None, 64)                49408     \n",
      "_________________________________________________________________\n",
      "dense_7 (Dense)              (None, 1)                 65        \n",
      "=================================================================\n",
      "Total params: 689,473\n",
      "Trainable params: 689,473\n",
      "Non-trainable params: 0\n",
      "_________________________________________________________________\n",
      "None\n"
     ]
    }
   ],
   "source": [
    "# Write the model summary out\n",
    "if USE_G_COLAB:\n",
    "  import os\n",
    "  model_dir = os.path.join(root_dir, 'trained_models/')\n",
    "  if not os.path.exists(model_dir):\n",
    "    os.makedirs(model_dir)\n",
    "  model_summary_path = os.path.join(root_dir, 'trained_models/lstm_model_summary.txt')\n",
    "else:\n",
    "  model_summary_path = './trained_models/lstm_model_summary.txt'\n",
    "\n",
    "    \n",
    "with open(model_summary_path,'w') as model_sum_writer:\n",
    "    lstm_model_out.summary(print_fn=lambda x: model_sum_writer.write(x + '\\n'))\n",
    "    \n",
    "print lstm_model_out.summary()"
   ]
  },
  {
   "cell_type": "markdown",
   "metadata": {
    "colab_type": "text",
    "id": "-BX9xnLVF0Lu"
   },
   "source": [
    "#### Task 7: build an CNN model to classify positive/negative imdb reviews using the above embedding model. (20 pt)"
   ]
  },
  {
   "cell_type": "code",
   "execution_count": 0,
   "metadata": {
    "colab": {},
    "colab_type": "code",
    "collapsed": true,
    "id": "qt7BrshzHgbR"
   },
   "outputs": [],
   "source": [
    "# TODO: implement cnn_model in the **classifier_models.py** and run this.\n",
    "if not USE_G_COLAB:\n",
    "  from classifier_models import cnn_model\n",
    "val_loss, val_acc, rnn_model_out = cnn_model(embedding_weights, max_features, \\\n",
    "              X_train_pad, y_train, X_test_pad, y_test, rev_idx)\n",
    "answers_out['classifier_cnn_test_loss'] = val_loss\n",
    "answers_out['classifier_cnn_test_accuracy'] = val_acc"
   ]
  },
  {
   "cell_type": "code",
   "execution_count": 0,
   "metadata": {
    "colab": {},
    "colab_type": "code",
    "id": "0KPXiUDP9B2N",
    "outputId": "c4698f60-1b86-430f-f300-c23c39552ea9"
   },
   "outputs": [
    {
     "name": "stdout",
     "output_type": "stream",
     "text": [
      "__________________________________________________________________________________________________\n",
      "Layer (type)                    Output Shape         Param #     Connected to                     \n",
      "==================================================================================================\n",
      "input_2 (InputLayer)            (None, 100)          0                                            \n",
      "__________________________________________________________________________________________________\n",
      "embedding (Embedding)           (None, 100, 300)     26576400    input_2[0][0]                    \n",
      "__________________________________________________________________________________________________\n",
      "dropout_3 (Dropout)             (None, 100, 300)     0           embedding[0][0]                  \n",
      "__________________________________________________________________________________________________\n",
      "conv1d_3 (Conv1D)               (None, 98, 10)       9010        dropout_3[0][0]                  \n",
      "__________________________________________________________________________________________________\n",
      "conv1d_4 (Conv1D)               (None, 93, 10)       24010       dropout_3[0][0]                  \n",
      "__________________________________________________________________________________________________\n",
      "max_pooling1d_3 (MaxPooling1D)  (None, 49, 10)       0           conv1d_3[0][0]                   \n",
      "__________________________________________________________________________________________________\n",
      "max_pooling1d_4 (MaxPooling1D)  (None, 46, 10)       0           conv1d_4[0][0]                   \n",
      "__________________________________________________________________________________________________\n",
      "flatten_3 (Flatten)             (None, 490)          0           max_pooling1d_3[0][0]            \n",
      "__________________________________________________________________________________________________\n",
      "flatten_4 (Flatten)             (None, 460)          0           max_pooling1d_4[0][0]            \n",
      "__________________________________________________________________________________________________\n",
      "concatenate_2 (Concatenate)     (None, 950)          0           flatten_3[0][0]                  \n",
      "                                                                 flatten_4[0][0]                  \n",
      "__________________________________________________________________________________________________\n",
      "dropout_4 (Dropout)             (None, 950)          0           concatenate_2[0][0]              \n",
      "__________________________________________________________________________________________________\n",
      "dense_5 (Dense)                 (None, 50)           47550       dropout_4[0][0]                  \n",
      "__________________________________________________________________________________________________\n",
      "dense_6 (Dense)                 (None, 1)            51          dense_5[0][0]                    \n",
      "==================================================================================================\n",
      "Total params: 26,657,021\n",
      "Trainable params: 26,657,021\n",
      "Non-trainable params: 0\n",
      "__________________________________________________________________________________________________\n",
      "None\n"
     ]
    }
   ],
   "source": [
    "# Write the model summary out\n",
    "with open('trained_models/cnn_model_summary.txt','w') as model_sum_writer:\n",
    "    cnn_model_out.summary(print_fn=lambda x: model_sum_writer.write(x + '\\n'))\n",
    "    \n",
    "print cnn_model_out.summary()"
   ]
  },
  {
   "cell_type": "markdown",
   "metadata": {
    "colab_type": "text",
    "id": "Dro0WR2O9B2Q"
   },
   "source": [
    "#### Task 8: answer the following questions regarding your trained neural network model above (30 pt)\n",
    "Note: answers should be matched with your implementation"
   ]
  },
  {
   "cell_type": "code",
   "execution_count": 0,
   "metadata": {
    "colab": {},
    "colab_type": "code",
    "collapsed": true,
    "id": "o1l7sCwo9B2R"
   },
   "outputs": [],
   "source": [
    "# Question 8.1: How many layers are there in your model?\n",
    "answers_out['classifier_n_layers'] = -1 # replace 'classifier_n_layers' with your answer\n",
    "# Question 8.2: What loss function did you use?\n",
    "answers_out['classifier_loss_func'] = \"NULL\" # replace NULL with your answer\n",
    "# Question 8.3: What optimizer did you use?\n",
    "answers_out['classifier_optimizer'] = \"NULL\" # replace NULL with your answer\n",
    "# Question 8.4: What evaluation metric did you use?\n",
    "answers_out['classifier_eval_metric'] = \"NULL\" # replace NULL with your answer"
   ]
  },
  {
   "cell_type": "code",
   "execution_count": 0,
   "metadata": {
    "colab": {},
    "colab_type": "code",
    "collapsed": true,
    "id": "z1jQJ70j9B2T"
   },
   "outputs": [],
   "source": [
    "# Write output\n",
    "if USE_G_COLAB:\n",
    "  import os\n",
    "  execfile(os.path.join(root_dir, \"py_utils.py\"))\n",
    "else:\n",
    "    from py_utils import write_answers, reload_answers\n",
    "write_answers(answers_out, \"trained_models/answer_outputs.txt\")\n",
    "\n",
    "# Make sure we can read and reload from your output file\n",
    "dict_outputs = reload_answers(\"trained_models/answer_outputs.txt\")\n",
    "dict_outputs['classifier_cnn_test_loss']"
   ]
  },
  {
   "cell_type": "markdown",
   "metadata": {
    "colab_type": "text",
    "id": "GZgEfr4Y9B2V"
   },
   "source": [
    "### Congratulations. You're done with the assignment. \n",
    "\n",
    "You need to submit a <span style=\"color:red\"> <em>your_name_ml2019_assignment2.zip</span> file. Remember to replace *your_name* part with your firstname_givenname. \n",
    "\n",
    "We will evaluate both of your output files and your implementations through a number of tests.\n",
    "Structure of your compressed file after extraction:\n",
    "```\n",
    "./<your_name>_ml2019_assignment2\n",
    "├── classifier_models.py      // contains your neural network model.\n",
    "├── trained_models            // all auto-generated files\n",
    "│   ├── 300features_1minwords_10context\n",
    "│   ├── lstm_model.json\n",
    "│   ├── lstm_model.h5\n",
    "│   ├── cnn_model.json\n",
    "│   ├── cnn_model.h5\n",
    "│   ├── lstm_model_summary.txt // summary of your LSTM model.\n",
    "│   ├── answer_outputs.txt    // your answers from this Jupyter Notebook file.\n",
    "│   ├── cnn_model_summary.txt // summary of your CNN model.\n",
    "├── cooccurrence_vector_utils.py // contains your find \"co-occurrence vectors\" func.\n",
    "├── w2vec_utils.py               // contains your word2vec functions.\n",
    "└── WordEmbedding_Student.ipynb  // this file with all of your outputs\n",
    "```"
   ]
  },
  {
   "cell_type": "code",
   "execution_count": 0,
   "metadata": {
    "colab": {},
    "colab_type": "code",
    "collapsed": true,
    "id": "mSv4xrICAmpM"
   },
   "outputs": [],
   "source": []
  }
 ],
 "metadata": {
  "colab": {
   "collapsed_sections": [
    "y3P40-Dg9B0y"
   ],
   "name": "WordEmbedding_Student.ipynb",
   "provenance": [],
   "toc_visible": true,
   "version": "0.3.2"
  },
  "kernelspec": {
   "display_name": "Python 2",
   "language": "python",
   "name": "python2"
  },
  "language_info": {
   "codemirror_mode": {
    "name": "ipython",
    "version": 2
   },
   "file_extension": ".py",
   "mimetype": "text/x-python",
   "name": "python",
   "nbconvert_exporter": "python",
   "pygments_lexer": "ipython2",
   "version": "2.7.15"
  }
 },
 "nbformat": 4,
 "nbformat_minor": 1
}
